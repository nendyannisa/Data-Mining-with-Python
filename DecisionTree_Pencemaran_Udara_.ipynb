{
  "nbformat": 4,
  "nbformat_minor": 0,
  "metadata": {
    "colab": {
      "name": "DecisionTree Pencemaran Udara .ipynb",
      "provenance": [],
      "authorship_tag": "ABX9TyOb5r0+rBq1BzyrWRXyu7Ui",
      "include_colab_link": true
    },
    "kernelspec": {
      "name": "python3",
      "display_name": "Python 3"
    },
    "language_info": {
      "name": "python"
    }
  },
  "cells": [
    {
      "cell_type": "markdown",
      "metadata": {
        "id": "view-in-github",
        "colab_type": "text"
      },
      "source": [
        "<a href=\"https://colab.research.google.com/github/nendyannisa/Data-Mining-with-Python/blob/main/DecisionTree_Pencemaran_Udara_.ipynb\" target=\"_parent\"><img src=\"https://colab.research.google.com/assets/colab-badge.svg\" alt=\"Open In Colab\"/></a>"
      ]
    },
    {
      "cell_type": "code",
      "metadata": {
        "id": "nlRHJSTLpv2l"
      },
      "source": [
        "import numpy as np\n",
        "import pandas as pd\n",
        "from sklearn import tree"
      ],
      "execution_count": 1,
      "outputs": []
    },
    {
      "cell_type": "code",
      "metadata": {
        "id": "eWuWljUOqSGh"
      },
      "source": [
        "irisDataset = pd.read_csv('dataPencemaran.csv', delimiter=';',header=0)"
      ],
      "execution_count": 2,
      "outputs": []
    },
    {
      "cell_type": "code",
      "metadata": {
        "colab": {
          "base_uri": "https://localhost:8080/",
          "height": 206
        },
        "id": "d9YIv2JuqboC",
        "outputId": "1241363a-c452-4d77-d6e7-0903e16013f4"
      },
      "source": [
        "irisDataset.head()"
      ],
      "execution_count": 3,
      "outputs": [
        {
          "output_type": "execute_result",
          "data": {
            "text/html": [
              "<div>\n",
              "<style scoped>\n",
              "    .dataframe tbody tr th:only-of-type {\n",
              "        vertical-align: middle;\n",
              "    }\n",
              "\n",
              "    .dataframe tbody tr th {\n",
              "        vertical-align: top;\n",
              "    }\n",
              "\n",
              "    .dataframe thead th {\n",
              "        text-align: right;\n",
              "    }\n",
              "</style>\n",
              "<table border=\"1\" class=\"dataframe\">\n",
              "  <thead>\n",
              "    <tr style=\"text-align: right;\">\n",
              "      <th></th>\n",
              "      <th>stasiun</th>\n",
              "      <th>co</th>\n",
              "      <th>o2</th>\n",
              "      <th>categori</th>\n",
              "    </tr>\n",
              "  </thead>\n",
              "  <tbody>\n",
              "    <tr>\n",
              "      <th>0</th>\n",
              "      <td>DKI1 (Bunderan HI)</td>\n",
              "      <td>26</td>\n",
              "      <td>74</td>\n",
              "      <td>BAIK</td>\n",
              "    </tr>\n",
              "    <tr>\n",
              "      <th>1</th>\n",
              "      <td>DKI1 (Bunderan HI)</td>\n",
              "      <td>25</td>\n",
              "      <td>64</td>\n",
              "      <td>BAIK</td>\n",
              "    </tr>\n",
              "    <tr>\n",
              "      <th>2</th>\n",
              "      <td>DKI1 (Bunderan HI)</td>\n",
              "      <td>29</td>\n",
              "      <td>70</td>\n",
              "      <td>BAIK</td>\n",
              "    </tr>\n",
              "    <tr>\n",
              "      <th>3</th>\n",
              "      <td>DKI1 (Bunderan HI)</td>\n",
              "      <td>36</td>\n",
              "      <td>78</td>\n",
              "      <td>BAIK</td>\n",
              "    </tr>\n",
              "    <tr>\n",
              "      <th>4</th>\n",
              "      <td>DKI1 (Bunderan HI)</td>\n",
              "      <td>20</td>\n",
              "      <td>45</td>\n",
              "      <td>BAIK</td>\n",
              "    </tr>\n",
              "  </tbody>\n",
              "</table>\n",
              "</div>"
            ],
            "text/plain": [
              "              stasiun  co  o2 categori\n",
              "0  DKI1 (Bunderan HI)  26  74     BAIK\n",
              "1  DKI1 (Bunderan HI)  25  64     BAIK\n",
              "2  DKI1 (Bunderan HI)  29  70     BAIK\n",
              "3  DKI1 (Bunderan HI)  36  78     BAIK\n",
              "4  DKI1 (Bunderan HI)  20  45     BAIK"
            ]
          },
          "metadata": {
            "tags": []
          },
          "execution_count": 3
        }
      ]
    },
    {
      "cell_type": "code",
      "metadata": {
        "id": "beU8LAG4qjFa"
      },
      "source": [
        "irisDataset[\"categori\"] = pd.factorize(irisDataset.categori)[0]"
      ],
      "execution_count": 4,
      "outputs": []
    },
    {
      "cell_type": "code",
      "metadata": {
        "colab": {
          "base_uri": "https://localhost:8080/",
          "height": 206
        },
        "id": "J7Sz4Sji7r9V",
        "outputId": "db3b87d7-1557-4691-d855-9861fe76ef7b"
      },
      "source": [
        "irisDataset.head()"
      ],
      "execution_count": 5,
      "outputs": [
        {
          "output_type": "execute_result",
          "data": {
            "text/html": [
              "<div>\n",
              "<style scoped>\n",
              "    .dataframe tbody tr th:only-of-type {\n",
              "        vertical-align: middle;\n",
              "    }\n",
              "\n",
              "    .dataframe tbody tr th {\n",
              "        vertical-align: top;\n",
              "    }\n",
              "\n",
              "    .dataframe thead th {\n",
              "        text-align: right;\n",
              "    }\n",
              "</style>\n",
              "<table border=\"1\" class=\"dataframe\">\n",
              "  <thead>\n",
              "    <tr style=\"text-align: right;\">\n",
              "      <th></th>\n",
              "      <th>stasiun</th>\n",
              "      <th>co</th>\n",
              "      <th>o2</th>\n",
              "      <th>categori</th>\n",
              "    </tr>\n",
              "  </thead>\n",
              "  <tbody>\n",
              "    <tr>\n",
              "      <th>0</th>\n",
              "      <td>DKI1 (Bunderan HI)</td>\n",
              "      <td>26</td>\n",
              "      <td>74</td>\n",
              "      <td>0</td>\n",
              "    </tr>\n",
              "    <tr>\n",
              "      <th>1</th>\n",
              "      <td>DKI1 (Bunderan HI)</td>\n",
              "      <td>25</td>\n",
              "      <td>64</td>\n",
              "      <td>0</td>\n",
              "    </tr>\n",
              "    <tr>\n",
              "      <th>2</th>\n",
              "      <td>DKI1 (Bunderan HI)</td>\n",
              "      <td>29</td>\n",
              "      <td>70</td>\n",
              "      <td>0</td>\n",
              "    </tr>\n",
              "    <tr>\n",
              "      <th>3</th>\n",
              "      <td>DKI1 (Bunderan HI)</td>\n",
              "      <td>36</td>\n",
              "      <td>78</td>\n",
              "      <td>0</td>\n",
              "    </tr>\n",
              "    <tr>\n",
              "      <th>4</th>\n",
              "      <td>DKI1 (Bunderan HI)</td>\n",
              "      <td>20</td>\n",
              "      <td>45</td>\n",
              "      <td>0</td>\n",
              "    </tr>\n",
              "  </tbody>\n",
              "</table>\n",
              "</div>"
            ],
            "text/plain": [
              "              stasiun  co  o2  categori\n",
              "0  DKI1 (Bunderan HI)  26  74         0\n",
              "1  DKI1 (Bunderan HI)  25  64         0\n",
              "2  DKI1 (Bunderan HI)  29  70         0\n",
              "3  DKI1 (Bunderan HI)  36  78         0\n",
              "4  DKI1 (Bunderan HI)  20  45         0"
            ]
          },
          "metadata": {
            "tags": []
          },
          "execution_count": 5
        }
      ]
    },
    {
      "cell_type": "code",
      "metadata": {
        "colab": {
          "base_uri": "https://localhost:8080/"
        },
        "id": "NEAuDIGF7wI7",
        "outputId": "bbf49ffb-6ab0-452d-fce7-79b3482dfe1d"
      },
      "source": [
        "print(irisDataset)"
      ],
      "execution_count": 6,
      "outputs": [
        {
          "output_type": "stream",
          "text": [
            "                 stasiun  co   o2  categori\n",
            "0     DKI1 (Bunderan HI)  26   74         0\n",
            "1     DKI1 (Bunderan HI)  25   64         0\n",
            "2     DKI1 (Bunderan HI)  29   70         0\n",
            "3     DKI1 (Bunderan HI)  36   78         0\n",
            "4     DKI1 (Bunderan HI)  20   45         0\n",
            "5     DKI1 (Bunderan HI)  37   47         0\n",
            "6     DKI1 (Bunderan HI)  36   82         1\n",
            "7     DKI1 (Bunderan HI)  37   98         1\n",
            "8     DKI1 (Bunderan HI)  32  116         1\n",
            "9     DKI1 (Bunderan HI)  48   78         0\n",
            "10    DKI1 (Bunderan HI)  37   88         1\n",
            "11    DKI1 (Bunderan HI)  25   73         0\n",
            "12    DKI1 (Bunderan HI)  42   75         0\n",
            "13    DKI1 (Bunderan HI)  37   71         0\n",
            "14    DKI1 (Bunderan HI)  23   74         0\n",
            "15    DKI1 (Bunderan HI)  22   41         0\n",
            "16    DKI1 (Bunderan HI)  19   35         0\n",
            "17    DKI1 (Bunderan HI)  22   39         0\n",
            "18    DKI1 (Bunderan HI)  23   87         1\n",
            "19    DKI1 (Bunderan HI)  25   82         0\n",
            "20    DKI1 (Bunderan HI)  39   65         0\n",
            "21    DKI1 (Bunderan HI)  34   64         0\n",
            "22    DKI1 (Bunderan HI)  32   76         0\n",
            "23    DKI1 (Bunderan HI)  29   71         0\n",
            "24    DKI1 (Bunderan HI)  33   57         0\n",
            "25    DKI1 (Bunderan HI)  22   70         0\n",
            "26  DKI2 (Kelapa Gading)  14  107         1\n",
            "27  DKI2 (Kelapa Gading)  20  131         1\n",
            "28  DKI2 (Kelapa Gading)  17  105         1\n",
            "29  DKI2 (Kelapa Gading)  46   59         0\n",
            "30  DKI2 (Kelapa Gading)  15   81         0\n",
            "31  DKI2 (Kelapa Gading)  19   85         1\n",
            "32  DKI2 (Kelapa Gading)  36  143         1\n",
            "33  DKI2 (Kelapa Gading)  30  130         1\n",
            "34  DKI2 (Kelapa Gading)  19  129         1\n",
            "35  DKI2 (Kelapa Gading)  36  100         1\n",
            "36  DKI2 (Kelapa Gading)  31  151         1\n",
            "37  DKI2 (Kelapa Gading)  22  171         1\n",
            "38  DKI2 (Kelapa Gading)  33   80         0\n",
            "39  DKI2 (Kelapa Gading)  26  106         1\n",
            "40  DKI2 (Kelapa Gading)  18  117         1\n",
            "41  DKI2 (Kelapa Gading)  17   11         0\n",
            "42  DKI2 (Kelapa Gading)  13   10         0\n",
            "43  DKI2 (Kelapa Gading)  17   10         0\n",
            "44  DKI2 (Kelapa Gading)  12    9         0\n"
          ],
          "name": "stdout"
        }
      ]
    },
    {
      "cell_type": "code",
      "metadata": {
        "id": "9PqJzck_9Iia"
      },
      "source": [
        "irisDataset = irisDataset.drop(labels=\"stasiun\", axis=1)"
      ],
      "execution_count": 7,
      "outputs": []
    },
    {
      "cell_type": "code",
      "metadata": {
        "colab": {
          "base_uri": "https://localhost:8080/"
        },
        "id": "GpnupvX79RrG",
        "outputId": "4f6a358a-1c57-45f1-c6f8-e3cd4edbfc27"
      },
      "source": [
        "print(irisDataset)"
      ],
      "execution_count": 8,
      "outputs": [
        {
          "output_type": "stream",
          "text": [
            "    co   o2  categori\n",
            "0   26   74         0\n",
            "1   25   64         0\n",
            "2   29   70         0\n",
            "3   36   78         0\n",
            "4   20   45         0\n",
            "5   37   47         0\n",
            "6   36   82         1\n",
            "7   37   98         1\n",
            "8   32  116         1\n",
            "9   48   78         0\n",
            "10  37   88         1\n",
            "11  25   73         0\n",
            "12  42   75         0\n",
            "13  37   71         0\n",
            "14  23   74         0\n",
            "15  22   41         0\n",
            "16  19   35         0\n",
            "17  22   39         0\n",
            "18  23   87         1\n",
            "19  25   82         0\n",
            "20  39   65         0\n",
            "21  34   64         0\n",
            "22  32   76         0\n",
            "23  29   71         0\n",
            "24  33   57         0\n",
            "25  22   70         0\n",
            "26  14  107         1\n",
            "27  20  131         1\n",
            "28  17  105         1\n",
            "29  46   59         0\n",
            "30  15   81         0\n",
            "31  19   85         1\n",
            "32  36  143         1\n",
            "33  30  130         1\n",
            "34  19  129         1\n",
            "35  36  100         1\n",
            "36  31  151         1\n",
            "37  22  171         1\n",
            "38  33   80         0\n",
            "39  26  106         1\n",
            "40  18  117         1\n",
            "41  17   11         0\n",
            "42  13   10         0\n",
            "43  17   10         0\n",
            "44  12    9         0\n"
          ],
          "name": "stdout"
        }
      ]
    },
    {
      "cell_type": "code",
      "metadata": {
        "id": "P-ErRe_69Vvb"
      },
      "source": [
        "irisDataset = irisDataset.to_numpy()"
      ],
      "execution_count": 9,
      "outputs": []
    },
    {
      "cell_type": "code",
      "metadata": {
        "colab": {
          "base_uri": "https://localhost:8080/"
        },
        "id": "6x4OPVLN9Ye0",
        "outputId": "3b5ed807-8385-42a1-cb55-e15e5fedfa75"
      },
      "source": [
        "print(irisDataset)"
      ],
      "execution_count": 10,
      "outputs": [
        {
          "output_type": "stream",
          "text": [
            "[[ 26  74   0]\n",
            " [ 25  64   0]\n",
            " [ 29  70   0]\n",
            " [ 36  78   0]\n",
            " [ 20  45   0]\n",
            " [ 37  47   0]\n",
            " [ 36  82   1]\n",
            " [ 37  98   1]\n",
            " [ 32 116   1]\n",
            " [ 48  78   0]\n",
            " [ 37  88   1]\n",
            " [ 25  73   0]\n",
            " [ 42  75   0]\n",
            " [ 37  71   0]\n",
            " [ 23  74   0]\n",
            " [ 22  41   0]\n",
            " [ 19  35   0]\n",
            " [ 22  39   0]\n",
            " [ 23  87   1]\n",
            " [ 25  82   0]\n",
            " [ 39  65   0]\n",
            " [ 34  64   0]\n",
            " [ 32  76   0]\n",
            " [ 29  71   0]\n",
            " [ 33  57   0]\n",
            " [ 22  70   0]\n",
            " [ 14 107   1]\n",
            " [ 20 131   1]\n",
            " [ 17 105   1]\n",
            " [ 46  59   0]\n",
            " [ 15  81   0]\n",
            " [ 19  85   1]\n",
            " [ 36 143   1]\n",
            " [ 30 130   1]\n",
            " [ 19 129   1]\n",
            " [ 36 100   1]\n",
            " [ 31 151   1]\n",
            " [ 22 171   1]\n",
            " [ 33  80   0]\n",
            " [ 26 106   1]\n",
            " [ 18 117   1]\n",
            " [ 17  11   0]\n",
            " [ 13  10   0]\n",
            " [ 17  10   0]\n",
            " [ 12   9   0]]\n"
          ],
          "name": "stdout"
        }
      ]
    },
    {
      "cell_type": "code",
      "metadata": {
        "id": "i9ujm1Ac9e3Y"
      },
      "source": [
        "dataTraining = np.concatenate((irisDataset[0:40,:],irisDataset[50:90,:]),axis=0)\n",
        "dataTesting = np.concatenate((irisDataset[40:50,:],irisDataset[90:100,:]),axis=0)"
      ],
      "execution_count": 11,
      "outputs": []
    },
    {
      "cell_type": "code",
      "metadata": {
        "colab": {
          "base_uri": "https://localhost:8080/"
        },
        "id": "3L4lP1DK9h6B",
        "outputId": "022ddced-046b-4bc7-f75a-112a81bf7641"
      },
      "source": [
        "print(dataTraining)\n",
        "len(dataTraining)"
      ],
      "execution_count": 12,
      "outputs": [
        {
          "output_type": "stream",
          "text": [
            "[[ 26  74   0]\n",
            " [ 25  64   0]\n",
            " [ 29  70   0]\n",
            " [ 36  78   0]\n",
            " [ 20  45   0]\n",
            " [ 37  47   0]\n",
            " [ 36  82   1]\n",
            " [ 37  98   1]\n",
            " [ 32 116   1]\n",
            " [ 48  78   0]\n",
            " [ 37  88   1]\n",
            " [ 25  73   0]\n",
            " [ 42  75   0]\n",
            " [ 37  71   0]\n",
            " [ 23  74   0]\n",
            " [ 22  41   0]\n",
            " [ 19  35   0]\n",
            " [ 22  39   0]\n",
            " [ 23  87   1]\n",
            " [ 25  82   0]\n",
            " [ 39  65   0]\n",
            " [ 34  64   0]\n",
            " [ 32  76   0]\n",
            " [ 29  71   0]\n",
            " [ 33  57   0]\n",
            " [ 22  70   0]\n",
            " [ 14 107   1]\n",
            " [ 20 131   1]\n",
            " [ 17 105   1]\n",
            " [ 46  59   0]\n",
            " [ 15  81   0]\n",
            " [ 19  85   1]\n",
            " [ 36 143   1]\n",
            " [ 30 130   1]\n",
            " [ 19 129   1]\n",
            " [ 36 100   1]\n",
            " [ 31 151   1]\n",
            " [ 22 171   1]\n",
            " [ 33  80   0]\n",
            " [ 26 106   1]]\n"
          ],
          "name": "stdout"
        },
        {
          "output_type": "execute_result",
          "data": {
            "text/plain": [
              "40"
            ]
          },
          "metadata": {
            "tags": []
          },
          "execution_count": 12
        }
      ]
    },
    {
      "cell_type": "code",
      "metadata": {
        "colab": {
          "base_uri": "https://localhost:8080/"
        },
        "id": "QcxMIXb09kyE",
        "outputId": "4a2426f1-6277-4878-f231-b2659ba1d1e7"
      },
      "source": [
        "print(dataTesting)\n",
        "len(dataTesting)"
      ],
      "execution_count": 13,
      "outputs": [
        {
          "output_type": "stream",
          "text": [
            "[[ 18 117   1]\n",
            " [ 17  11   0]\n",
            " [ 13  10   0]\n",
            " [ 17  10   0]\n",
            " [ 12   9   0]]\n"
          ],
          "name": "stdout"
        },
        {
          "output_type": "execute_result",
          "data": {
            "text/plain": [
              "5"
            ]
          },
          "metadata": {
            "tags": []
          },
          "execution_count": 13
        }
      ]
    },
    {
      "cell_type": "code",
      "metadata": {
        "id": "LmtqHEeC9uBK"
      },
      "source": [
        "inputTraining = dataTraining[:, 0:2]\n",
        "inputTesting = dataTesting[:, 0:2]\n",
        "labelTraining = dataTraining[:,2]\n",
        "labelTesting = dataTesting[:,2]"
      ],
      "execution_count": 14,
      "outputs": []
    },
    {
      "cell_type": "code",
      "metadata": {
        "id": "JBigtQ5K92GC"
      },
      "source": [
        "model = tree.DecisionTreeClassifier()"
      ],
      "execution_count": 15,
      "outputs": []
    },
    {
      "cell_type": "code",
      "metadata": {
        "id": "T7ngRlUd94o4"
      },
      "source": [
        "model = model.fit(inputTraining, labelTraining)"
      ],
      "execution_count": 16,
      "outputs": []
    },
    {
      "cell_type": "code",
      "metadata": {
        "colab": {
          "base_uri": "https://localhost:8080/"
        },
        "id": "ZQpXDNN9979C",
        "outputId": "0e30493a-101e-495a-c125-957584747baf"
      },
      "source": [
        "hasilPrediksi = model.predict(inputTesting)\n",
        "print(\"label Sebenarnya\", labelTesting)\n",
        "print(\"hasil prediksi\", hasilPrediksi)"
      ],
      "execution_count": 17,
      "outputs": [
        {
          "output_type": "stream",
          "text": [
            "label Sebenarnya [1 0 0 0 0]\n",
            "hasil prediksi [1 0 0 0 0]\n"
          ],
          "name": "stdout"
        }
      ]
    },
    {
      "cell_type": "code",
      "metadata": {
        "colab": {
          "base_uri": "https://localhost:8080/"
        },
        "id": "9RL8hnql-jZ5",
        "outputId": "62b9a650-2b38-4ebd-e486-a80b9bfa09cc"
      },
      "source": [
        "prediksiBenar = (hasilPrediksi == labelTesting).sum()\n",
        "prediksiSalah = (hasilPrediksi != labelTesting).sum()\n",
        "print(\"prediksi benar : \", prediksiBenar, \"data\")\n",
        "print(\"prediksi salah : \", prediksiSalah, \"data\")\n",
        "print(\"akurasi : \", prediksiBenar/(prediksiBenar+prediksiSalah) *100, \"%\")"
      ],
      "execution_count": 18,
      "outputs": [
        {
          "output_type": "stream",
          "text": [
            "prediksi benar :  5 data\n",
            "prediksi salah :  0 data\n",
            "akurasi :  100.0 %\n"
          ],
          "name": "stdout"
        }
      ]
    }
  ]
}