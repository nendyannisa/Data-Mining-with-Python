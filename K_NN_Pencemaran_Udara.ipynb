{
  "nbformat": 4,
  "nbformat_minor": 0,
  "metadata": {
    "colab": {
      "name": "K-NN Pencemaran Udara.ipynb",
      "provenance": [],
      "collapsed_sections": [],
      "authorship_tag": "ABX9TyPsLVmaXmvh4uvqD0SyS45E",
      "include_colab_link": true
    },
    "kernelspec": {
      "name": "python3",
      "display_name": "Python 3"
    },
    "language_info": {
      "name": "python"
    }
  },
  "cells": [
    {
      "cell_type": "markdown",
      "metadata": {
        "id": "view-in-github",
        "colab_type": "text"
      },
      "source": [
        "<a href=\"https://colab.research.google.com/github/nendyannisa/Data-Mining-with-Python/blob/main/K_NN_Pencemaran_Udara.ipynb\" target=\"_parent\"><img src=\"https://colab.research.google.com/assets/colab-badge.svg\" alt=\"Open In Colab\"/></a>"
      ]
    },
    {
      "cell_type": "code",
      "metadata": {
        "id": "p5b_p3R1i_HI"
      },
      "source": [
        "import numpy as np\n",
        "import matplotlib.pyplot as plt\n",
        "import pandas as pd"
      ],
      "execution_count": 12,
      "outputs": []
    },
    {
      "cell_type": "code",
      "metadata": {
        "id": "kHNXNrt9jumK"
      },
      "source": [
        "dataset = pd.read_csv(\"Pencemaran2.csv\")"
      ],
      "execution_count": 13,
      "outputs": []
    },
    {
      "cell_type": "code",
      "metadata": {
        "colab": {
          "base_uri": "https://localhost:8080/",
          "height": 206
        },
        "id": "SQi0u4QFj1LA",
        "outputId": "ed994757-c7a8-49a4-fb39-1cabc24b95bf"
      },
      "source": [
        "dataset.head()"
      ],
      "execution_count": 14,
      "outputs": [
        {
          "output_type": "execute_result",
          "data": {
            "text/html": [
              "<div>\n",
              "<style scoped>\n",
              "    .dataframe tbody tr th:only-of-type {\n",
              "        vertical-align: middle;\n",
              "    }\n",
              "\n",
              "    .dataframe tbody tr th {\n",
              "        vertical-align: top;\n",
              "    }\n",
              "\n",
              "    .dataframe thead th {\n",
              "        text-align: right;\n",
              "    }\n",
              "</style>\n",
              "<table border=\"1\" class=\"dataframe\">\n",
              "  <thead>\n",
              "    <tr style=\"text-align: right;\">\n",
              "      <th></th>\n",
              "      <th>stasiun</th>\n",
              "      <th>o2</th>\n",
              "      <th>co</th>\n",
              "      <th>categori</th>\n",
              "    </tr>\n",
              "  </thead>\n",
              "  <tbody>\n",
              "    <tr>\n",
              "      <th>0</th>\n",
              "      <td>DKI1 (Bunderan HI)</td>\n",
              "      <td>26</td>\n",
              "      <td>74</td>\n",
              "      <td>BAIK</td>\n",
              "    </tr>\n",
              "    <tr>\n",
              "      <th>1</th>\n",
              "      <td>DKI1 (Bunderan HI)</td>\n",
              "      <td>25</td>\n",
              "      <td>64</td>\n",
              "      <td>BAIK</td>\n",
              "    </tr>\n",
              "    <tr>\n",
              "      <th>2</th>\n",
              "      <td>DKI1 (Bunderan HI)</td>\n",
              "      <td>29</td>\n",
              "      <td>70</td>\n",
              "      <td>BAIK</td>\n",
              "    </tr>\n",
              "    <tr>\n",
              "      <th>3</th>\n",
              "      <td>DKI1 (Bunderan HI)</td>\n",
              "      <td>36</td>\n",
              "      <td>78</td>\n",
              "      <td>BAIK</td>\n",
              "    </tr>\n",
              "    <tr>\n",
              "      <th>4</th>\n",
              "      <td>DKI1 (Bunderan HI)</td>\n",
              "      <td>20</td>\n",
              "      <td>45</td>\n",
              "      <td>BAIK</td>\n",
              "    </tr>\n",
              "  </tbody>\n",
              "</table>\n",
              "</div>"
            ],
            "text/plain": [
              "              stasiun  o2  co categori\n",
              "0  DKI1 (Bunderan HI)  26  74     BAIK\n",
              "1  DKI1 (Bunderan HI)  25  64     BAIK\n",
              "2  DKI1 (Bunderan HI)  29  70     BAIK\n",
              "3  DKI1 (Bunderan HI)  36  78     BAIK\n",
              "4  DKI1 (Bunderan HI)  20  45     BAIK"
            ]
          },
          "metadata": {
            "tags": []
          },
          "execution_count": 14
        }
      ]
    },
    {
      "cell_type": "code",
      "metadata": {
        "id": "AF2mfkr6j4nN"
      },
      "source": [
        "x = dataset.iloc[:, [1,2]].values\n",
        "y = dataset.iloc[:, -1].values"
      ],
      "execution_count": 18,
      "outputs": []
    },
    {
      "cell_type": "code",
      "metadata": {
        "colab": {
          "base_uri": "https://localhost:8080/"
        },
        "id": "TopJ42SWktNv",
        "outputId": "146feca6-93a0-454a-dfcd-43c1e82b05f0"
      },
      "source": [
        "print(x)"
      ],
      "execution_count": 19,
      "outputs": [
        {
          "output_type": "stream",
          "text": [
            "[[ 26  74]\n",
            " [ 25  64]\n",
            " [ 29  70]\n",
            " [ 36  78]\n",
            " [ 20  45]\n",
            " [ 37  47]\n",
            " [ 36  82]\n",
            " [ 37  98]\n",
            " [ 32 116]\n",
            " [ 48  78]\n",
            " [ 37  88]\n",
            " [ 25  73]\n",
            " [ 42  75]\n",
            " [ 37  71]\n",
            " [ 23  74]\n",
            " [ 22  41]\n",
            " [ 19  35]\n",
            " [ 22  39]\n",
            " [ 23  87]\n",
            " [ 25  82]\n",
            " [ 39  65]\n",
            " [ 34  64]\n",
            " [ 32  76]\n",
            " [ 29  71]\n",
            " [ 33  57]\n",
            " [ 22  70]\n",
            " [ 14 107]\n",
            " [ 20 131]\n",
            " [ 17 105]\n",
            " [ 46  59]\n",
            " [ 15  81]\n",
            " [ 19  85]\n",
            " [ 36 143]\n",
            " [ 30 130]\n",
            " [ 19 129]\n",
            " [ 36 100]\n",
            " [ 31 151]\n",
            " [ 22 171]\n",
            " [ 33  80]\n",
            " [ 26 106]\n",
            " [ 18 117]\n",
            " [ 17  11]\n",
            " [ 13  10]\n",
            " [ 17  10]\n",
            " [ 12   9]]\n"
          ],
          "name": "stdout"
        }
      ]
    },
    {
      "cell_type": "code",
      "metadata": {
        "colab": {
          "base_uri": "https://localhost:8080/"
        },
        "id": "6wiVzf_0lKgb",
        "outputId": "8e5c4f99-801b-48c6-db65-f5aa67b83370"
      },
      "source": [
        "print(y)"
      ],
      "execution_count": 20,
      "outputs": [
        {
          "output_type": "stream",
          "text": [
            "['BAIK' 'BAIK' 'BAIK' 'BAIK' 'BAIK' 'BAIK' 'TIDAK SEHAT' 'TIDAK SEHAT'\n",
            " 'TIDAK SEHAT' 'BAIK' 'TIDAK SEHAT' 'BAIK' 'BAIK' 'BAIK' 'BAIK' 'BAIK'\n",
            " 'BAIK' 'BAIK' 'TIDAK SEHAT' 'BAIK' 'BAIK' 'BAIK' 'BAIK' 'BAIK' 'BAIK'\n",
            " 'BAIK' 'TIDAK SEHAT' 'TIDAK SEHAT' 'TIDAK SEHAT' 'BAIK' 'BAIK'\n",
            " 'TIDAK SEHAT' 'TIDAK SEHAT' 'TIDAK SEHAT' 'TIDAK SEHAT' 'TIDAK SEHAT'\n",
            " 'TIDAK SEHAT' 'TIDAK SEHAT' 'BAIK' 'TIDAK SEHAT' 'TIDAK SEHAT' 'BAIK'\n",
            " 'BAIK' 'BAIK' 'BAIK']\n"
          ],
          "name": "stdout"
        }
      ]
    },
    {
      "cell_type": "code",
      "metadata": {
        "id": "A6jHefRdlQNp"
      },
      "source": [
        "from sklearn.preprocessing import LabelEncoder\n",
        "le = LabelEncoder()\n",
        "y = le.fit_transform(y)"
      ],
      "execution_count": 21,
      "outputs": []
    },
    {
      "cell_type": "code",
      "metadata": {
        "colab": {
          "base_uri": "https://localhost:8080/"
        },
        "id": "W3J3ThpllRz4",
        "outputId": "a84052f3-4f91-4716-a6d9-e55c413910c3"
      },
      "source": [
        "print(y)"
      ],
      "execution_count": 22,
      "outputs": [
        {
          "output_type": "stream",
          "text": [
            "[0 0 0 0 0 0 1 1 1 0 1 0 0 0 0 0 0 0 1 0 0 0 0 0 0 0 1 1 1 0 0 1 1 1 1 1 1\n",
            " 1 0 1 1 0 0 0 0]\n"
          ],
          "name": "stdout"
        }
      ]
    },
    {
      "cell_type": "code",
      "metadata": {
        "id": "KbIwRiWZlWx9"
      },
      "source": [
        "from sklearn.model_selection import train_test_split\n",
        "x_train, x_test, y_train, y_test = train_test_split(x, y, test_size = 0.25, random_state=0)"
      ],
      "execution_count": 23,
      "outputs": []
    },
    {
      "cell_type": "code",
      "metadata": {
        "colab": {
          "base_uri": "https://localhost:8080/"
        },
        "id": "Ajf_eBgflabN",
        "outputId": "c06b82d8-540f-4a2d-ce2d-b1236170baea"
      },
      "source": [
        "print(x_train)"
      ],
      "execution_count": 24,
      "outputs": [
        {
          "output_type": "stream",
          "text": [
            "[[ 17  11]\n",
            " [ 29  70]\n",
            " [ 17  10]\n",
            " [ 23  87]\n",
            " [ 22  41]\n",
            " [ 32  76]\n",
            " [ 19  35]\n",
            " [ 18 117]\n",
            " [ 32 116]\n",
            " [ 37  71]\n",
            " [ 37  47]\n",
            " [ 22  39]\n",
            " [ 36 143]\n",
            " [ 23  74]\n",
            " [ 36 100]\n",
            " [ 37  98]\n",
            " [ 19 129]\n",
            " [ 25  64]\n",
            " [ 14 107]\n",
            " [ 42  75]\n",
            " [ 30 130]\n",
            " [ 33  57]\n",
            " [ 36  82]\n",
            " [ 29  71]\n",
            " [ 31 151]\n",
            " [ 34  64]\n",
            " [ 25  82]\n",
            " [ 48  78]\n",
            " [ 26 106]\n",
            " [ 13  10]\n",
            " [ 36  78]\n",
            " [ 26  74]\n",
            " [ 12   9]]\n"
          ],
          "name": "stdout"
        }
      ]
    },
    {
      "cell_type": "code",
      "metadata": {
        "colab": {
          "base_uri": "https://localhost:8080/"
        },
        "id": "r--fDI5ZlbxF",
        "outputId": "0a071c32-1242-4dc9-ed1b-7f9dee78a627"
      },
      "source": [
        "len(x_train)"
      ],
      "execution_count": 25,
      "outputs": [
        {
          "output_type": "execute_result",
          "data": {
            "text/plain": [
              "33"
            ]
          },
          "metadata": {
            "tags": []
          },
          "execution_count": 25
        }
      ]
    },
    {
      "cell_type": "code",
      "metadata": {
        "colab": {
          "base_uri": "https://localhost:8080/"
        },
        "id": "fsiVPuDSlggv",
        "outputId": "20cbd4ed-82b8-4d4f-e497-bb91c8426d9f"
      },
      "source": [
        "len(x)"
      ],
      "execution_count": 26,
      "outputs": [
        {
          "output_type": "execute_result",
          "data": {
            "text/plain": [
              "45"
            ]
          },
          "metadata": {
            "tags": []
          },
          "execution_count": 26
        }
      ]
    },
    {
      "cell_type": "code",
      "metadata": {
        "colab": {
          "base_uri": "https://localhost:8080/"
        },
        "id": "7CAYAiFIli_k",
        "outputId": "f320dcfc-191a-4bf5-b13c-07c537b173b3"
      },
      "source": [
        "len(x_test)"
      ],
      "execution_count": 27,
      "outputs": [
        {
          "output_type": "execute_result",
          "data": {
            "text/plain": [
              "12"
            ]
          },
          "metadata": {
            "tags": []
          },
          "execution_count": 27
        }
      ]
    },
    {
      "cell_type": "code",
      "metadata": {
        "colab": {
          "base_uri": "https://localhost:8080/"
        },
        "id": "0tmhbph0llj8",
        "outputId": "28b3c392-d91b-405b-b0d8-ddac15dd3e5a"
      },
      "source": [
        "len(y)"
      ],
      "execution_count": 28,
      "outputs": [
        {
          "output_type": "execute_result",
          "data": {
            "text/plain": [
              "45"
            ]
          },
          "metadata": {
            "tags": []
          },
          "execution_count": 28
        }
      ]
    },
    {
      "cell_type": "code",
      "metadata": {
        "colab": {
          "base_uri": "https://localhost:8080/"
        },
        "id": "9mXfsfhMlnwH",
        "outputId": "07ef92a8-0cae-4705-9815-35586fa81521"
      },
      "source": [
        "len(y_test)"
      ],
      "execution_count": 29,
      "outputs": [
        {
          "output_type": "execute_result",
          "data": {
            "text/plain": [
              "12"
            ]
          },
          "metadata": {
            "tags": []
          },
          "execution_count": 29
        }
      ]
    },
    {
      "cell_type": "code",
      "metadata": {
        "colab": {
          "base_uri": "https://localhost:8080/"
        },
        "id": "_rPvOjGclpzy",
        "outputId": "1a9283d6-00ab-489d-8b47-de8bf6f91256"
      },
      "source": [
        "len(y_train)"
      ],
      "execution_count": 30,
      "outputs": [
        {
          "output_type": "execute_result",
          "data": {
            "text/plain": [
              "33"
            ]
          },
          "metadata": {
            "tags": []
          },
          "execution_count": 30
        }
      ]
    },
    {
      "cell_type": "code",
      "metadata": {
        "id": "tgdmpcK_ltVg"
      },
      "source": [
        "from sklearn.preprocessing import StandardScaler\n",
        "sc = StandardScaler()\n",
        "x_train= sc.fit_transform(x_train)\n",
        "x_test = sc.transform(x_test)"
      ],
      "execution_count": 31,
      "outputs": []
    },
    {
      "cell_type": "code",
      "metadata": {
        "colab": {
          "base_uri": "https://localhost:8080/"
        },
        "id": "quN2-stDlv4r",
        "outputId": "13c31141-07b9-41d3-a9ca-a1085c562d42"
      },
      "source": [
        "print(x_train)"
      ],
      "execution_count": 32,
      "outputs": [
        {
          "output_type": "stream",
          "text": [
            "[[-1.22858701 -1.74509764]\n",
            " [ 0.14189315 -0.15664271]\n",
            " [-1.22858701 -1.77202061]\n",
            " [-0.54334693  0.3010477 ]\n",
            " [-0.65755361 -0.93740869]\n",
            " [ 0.48451319  0.00489508]\n",
            " [-1.00017365 -1.09894648]\n",
            " [-1.11438033  1.10873665]\n",
            " [ 0.48451319  1.08181369]\n",
            " [ 1.05554659 -0.12971974]\n",
            " [ 1.05554659 -0.7758709 ]\n",
            " [-0.65755361 -0.99125462]\n",
            " [ 0.94133991  1.80873374]\n",
            " [-0.54334693 -0.04895085]\n",
            " [ 0.94133991  0.65104624]\n",
            " [ 1.05554659  0.59720031]\n",
            " [-1.00017365  1.43181223]\n",
            " [-0.31493357 -0.3181805 ]\n",
            " [-1.57120706  0.839507  ]\n",
            " [ 1.62657999 -0.02202788]\n",
            " [ 0.25609983  1.4587352 ]\n",
            " [ 0.59871987 -0.50664125]\n",
            " [ 0.94133991  0.16643287]\n",
            " [ 0.14189315 -0.12971974]\n",
            " [ 0.37030651  2.02411746]\n",
            " [ 0.71292655 -0.3181805 ]\n",
            " [-0.31493357  0.16643287]\n",
            " [ 2.31182007  0.05874101]\n",
            " [-0.20072689  0.81258403]\n",
            " [-1.68541374 -1.77202061]\n",
            " [ 0.94133991  0.05874101]\n",
            " [-0.20072689 -0.04895085]\n",
            " [-1.79962042 -1.79894357]]\n"
          ],
          "name": "stdout"
        }
      ]
    },
    {
      "cell_type": "code",
      "metadata": {
        "colab": {
          "base_uri": "https://localhost:8080/"
        },
        "id": "Zy8LN0hPlxQ-",
        "outputId": "42295cc9-6363-43a4-de8f-648c25bc26f7"
      },
      "source": [
        "print(y_train)"
      ],
      "execution_count": 33,
      "outputs": [
        {
          "output_type": "stream",
          "text": [
            "[0 0 0 1 0 0 0 1 1 0 0 0 1 0 1 1 1 0 1 0 1 0 1 0 1 0 0 0 1 0 0 0 0]\n"
          ],
          "name": "stdout"
        }
      ]
    },
    {
      "cell_type": "code",
      "metadata": {
        "colab": {
          "base_uri": "https://localhost:8080/"
        },
        "id": "YeLmO8cQl1DG",
        "outputId": "79486f2e-5f89-4a1c-bc65-d3d4abd1d5f2"
      },
      "source": [
        "print(x_test)"
      ],
      "execution_count": 34,
      "outputs": [
        {
          "output_type": "stream",
          "text": [
            "[[-1.45700038  0.13950991]\n",
            " [-0.65755361  2.56257676]\n",
            " [-0.88596697  1.48565816]\n",
            " [-0.88596697 -0.82971683]\n",
            " [ 1.05554659  0.32797066]\n",
            " [-0.65755361 -0.15664271]\n",
            " [-1.22858701  0.78566107]\n",
            " [-0.31493357 -0.07587381]\n",
            " [ 0.59871987  0.11258694]\n",
            " [-1.00017365  0.24720177]\n",
            " [ 2.08340671 -0.45279532]\n",
            " [ 1.28395995 -0.29125753]]\n"
          ],
          "name": "stdout"
        }
      ]
    },
    {
      "cell_type": "code",
      "metadata": {
        "colab": {
          "base_uri": "https://localhost:8080/"
        },
        "id": "pbAWzOifl2_D",
        "outputId": "5fc12f5f-5801-45bc-b44b-bf402eed51c6"
      },
      "source": [
        "from sklearn.neighbors import KNeighborsClassifier\n",
        "classifier = KNeighborsClassifier(n_neighbors = 5, metric = 'minkowski', p=2)\n",
        "classifier.fit(x_train, y_train)"
      ],
      "execution_count": 35,
      "outputs": [
        {
          "output_type": "execute_result",
          "data": {
            "text/plain": [
              "KNeighborsClassifier(algorithm='auto', leaf_size=30, metric='minkowski',\n",
              "                     metric_params=None, n_jobs=None, n_neighbors=5, p=2,\n",
              "                     weights='uniform')"
            ]
          },
          "metadata": {
            "tags": []
          },
          "execution_count": 35
        }
      ]
    },
    {
      "cell_type": "code",
      "metadata": {
        "id": "lDReqfffl5qU"
      },
      "source": [
        "y_pred = classifier.predict(x_test)"
      ],
      "execution_count": 36,
      "outputs": []
    },
    {
      "cell_type": "code",
      "metadata": {
        "colab": {
          "base_uri": "https://localhost:8080/"
        },
        "id": "562zd2xbl70a",
        "outputId": "1b3fce53-4e6b-4a42-961b-a399e4242bf5"
      },
      "source": [
        "from sklearn.metrics import confusion_matrix\n",
        "cm = confusion_matrix(y_test, y_pred)\n",
        "print(cm)"
      ],
      "execution_count": 37,
      "outputs": [
        {
          "output_type": "stream",
          "text": [
            "[[6 1]\n",
            " [1 4]]\n"
          ],
          "name": "stdout"
        }
      ]
    },
    {
      "cell_type": "code",
      "metadata": {
        "colab": {
          "base_uri": "https://localhost:8080/",
          "height": 352
        },
        "id": "kTmfYgakmjYX",
        "outputId": "8ab675e8-f784-4a88-9e6d-593563913a8c"
      },
      "source": [
        "from matplotlib.colors import ListedColormap\n",
        "x_set, y_set = x_train, y_train\n",
        "x1, x2 = np.meshgrid(np.arange(start=x_set[:,0].min()-1,stop = x_set[:,0].max() + 1, step=0.01),\n",
        "                     np.arange(start=x_set[:,1].min()-1,stop = x_set[:,1].max() + 1, step=0.01))\n",
        "plt.contourf(x1,x2, classifier.predict(np.array([x1.ravel(),x2.ravel()]).T).reshape(x1.shape),\n",
        "             alpha = 0.75,cmap=ListedColormap(('red','green')))\n",
        "plt.xlim(x1.min(),x1.max())\n",
        "plt.ylim(x2.min(),x2.max())\n",
        "for i, j in enumerate (np.unique(y_set)):\n",
        "  plt.scatter(x_set[y_set == j, 0], x_set[y_set==j, 1],\n",
        "              c = ListedColormap(('red','green'))(i),label=j)\n",
        "plt.title('Klasifikasi Data dengan K-NN ( Data Training)')\n",
        "plt.xlabel('co')\n",
        "plt.ylabel('o2')\n",
        "plt.legend()\n",
        "plt.show()"
      ],
      "execution_count": 43,
      "outputs": [
        {
          "output_type": "stream",
          "text": [
            "*c* argument looks like a single numeric RGB or RGBA sequence, which should be avoided as value-mapping will have precedence in case its length matches with *x* & *y*.  Please use the *color* keyword-argument or provide a 2-D array with a single row if you intend to specify the same RGB or RGBA value for all points.\n",
            "*c* argument looks like a single numeric RGB or RGBA sequence, which should be avoided as value-mapping will have precedence in case its length matches with *x* & *y*.  Please use the *color* keyword-argument or provide a 2-D array with a single row if you intend to specify the same RGB or RGBA value for all points.\n"
          ],
          "name": "stderr"
        },
        {
          "output_type": "display_data",
          "data": {
            "image/png": "[encoded data removed]",
            "text/plain": [
              "<Figure size 432x288 with 1 Axes>"
            ]
          },
          "metadata": {
            "tags": [],
            "needs_background": "light"
          }
        }
      ]
    },
    {
      "cell_type": "code",
      "metadata": {
        "colab": {
          "base_uri": "https://localhost:8080/",
          "height": 352
        },
        "id": "ouaD7Qd0nQX9",
        "outputId": "77c8b6ad-3e4f-4f92-8472-ebad0cceb9c7"
      },
      "source": [
        "from matplotlib.colors import ListedColormap\n",
        "x_set, y_set = x_test, y_test\n",
        "x1, x2 = np.meshgrid(np.arange(start=x_set[:,0].min()-1,stop = x_set[:,0].max() + 1, step=0.01),\n",
        "                     np.arange(start=x_set[:,1].min()-1,stop = x_set[:,1].max() + 1, step=0.01))\n",
        "plt.contourf(x1,x2, classifier.predict(np.array([x1.ravel(),x2.ravel()]).T).reshape(x1.shape),\n",
        "             alpha = 0.75,cmap=ListedColormap(('red','green')))\n",
        "plt.xlim(x1.min(),x1.max())\n",
        "plt.ylim(x2.min(),x2.max())\n",
        "for i, j in enumerate (np.unique(y_set)):\n",
        "  plt.scatter(x_set[y_set == j, 0], x_set[y_set==j, 1],\n",
        "              c = ListedColormap(('red','green'))(i),label=j)\n",
        "plt.title('Klasifikasi Data dengan K-NN ( Data Testing)')\n",
        "plt.xlabel('co')\n",
        "plt.ylabel('o2')\n",
        "plt.legend()\n",
        "plt.show()"
      ],
      "execution_count": 44,
      "outputs": [
        {
          "output_type": "stream",
          "text": [
            "*c* argument looks like a single numeric RGB or RGBA sequence, which should be avoided as value-mapping will have precedence in case its length matches with *x* & *y*.  Please use the *color* keyword-argument or provide a 2-D array with a single row if you intend to specify the same RGB or RGBA value for all points.\n",
            "*c* argument looks like a single numeric RGB or RGBA sequence, which should be avoided as value-mapping will have precedence in case its length matches with *x* & *y*.  Please use the *color* keyword-argument or provide a 2-D array with a single row if you intend to specify the same RGB or RGBA value for all points.\n"
          ],
          "name": "stderr"
        },
        {
          "output_type": "display_data",
          "data": {
            "image/png": "[encoded data removed]",
            "text/plain": [
              "<Figure size 432x288 with 1 Axes>"
            ]
          },
          "metadata": {
            "tags": [],
            "needs_background": "light"
          }
        }
      ]
    }
  ]
}