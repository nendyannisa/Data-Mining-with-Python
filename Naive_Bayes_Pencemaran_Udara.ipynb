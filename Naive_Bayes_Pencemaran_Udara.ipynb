{
  "nbformat": 4,
  "nbformat_minor": 0,
  "metadata": {
    "colab": {
      "name": "Naive Bayes Pencemaran Udara.ipynb",
      "provenance": [],
      "authorship_tag": "ABX9TyNRAo2cxnJx1KYCa4d24f30",
      "include_colab_link": true
    },
    "kernelspec": {
      "name": "python3",
      "display_name": "Python 3"
    },
    "language_info": {
      "name": "python"
    }
  },
  "cells": [
    {
      "cell_type": "markdown",
      "metadata": {
        "id": "view-in-github",
        "colab_type": "text"
      },
      "source": [
        "<a href=\"https://colab.research.google.com/github/nendyannisa/PrepocessingPencemaranUdara/blob/main/Naive_Bayes_Pencemaran_Udara.ipynb\" target=\"_parent\"><img src=\"https://colab.research.google.com/assets/colab-badge.svg\" alt=\"Open In Colab\"/></a>"
      ]
    },
    {
      "cell_type": "code",
      "metadata": {
        "id": "jAtzFZv56G1f"
      },
      "source": [
        "import numpy as np\n",
        "import matplotlib.pyplot as plt\n",
        "import pandas as pd"
      ],
      "execution_count": 8,
      "outputs": []
    },
    {
      "cell_type": "code",
      "metadata": {
        "id": "4pcZrMzH6h2D"
      },
      "source": [
        "dataset = pd.read_csv(\"Pencemaran2.csv\")\n",
        "x = dataset.iloc[:, [0,1]].values\n",
        "y = dataset.iloc[:, -1].values"
      ],
      "execution_count": 12,
      "outputs": []
    },
    {
      "cell_type": "code",
      "metadata": {
        "colab": {
          "base_uri": "https://localhost:8080/"
        },
        "id": "G4XgUzNlAYK4",
        "outputId": "f30f7c0c-1cd2-4b5b-8823-2c8f3476aa80"
      },
      "source": [
        "print(x)"
      ],
      "execution_count": 13,
      "outputs": [
        {
          "output_type": "stream",
          "text": [
            "[[ 26  74]\n",
            " [ 25  64]\n",
            " [ 29  70]\n",
            " [ 36  78]\n",
            " [ 20  45]\n",
            " [ 37  47]\n",
            " [ 36  82]\n",
            " [ 37  98]\n",
            " [ 32 116]\n",
            " [ 48  78]\n",
            " [ 37  88]\n",
            " [ 25  73]\n",
            " [ 42  75]\n",
            " [ 37  71]\n",
            " [ 23  74]\n",
            " [ 22  41]\n",
            " [ 19  35]\n",
            " [ 22  39]\n",
            " [ 23  87]\n",
            " [ 25  82]\n",
            " [ 39  65]\n",
            " [ 34  64]\n",
            " [ 32  76]\n",
            " [ 29  71]\n",
            " [ 33  57]\n",
            " [ 22  70]\n",
            " [ 14 107]\n",
            " [ 20 131]\n",
            " [ 17 105]\n",
            " [ 46  59]\n",
            " [ 15  81]\n",
            " [ 19  85]\n",
            " [ 36 143]\n",
            " [ 30 130]\n",
            " [ 19 129]\n",
            " [ 36 100]\n",
            " [ 31 151]\n",
            " [ 22 171]\n",
            " [ 33  80]\n",
            " [ 26 106]\n",
            " [ 18 117]\n",
            " [ 17  11]\n",
            " [ 13  10]\n",
            " [ 17  10]\n",
            " [ 12   9]]\n"
          ],
          "name": "stdout"
        }
      ]
    },
    {
      "cell_type": "code",
      "metadata": {
        "colab": {
          "base_uri": "https://localhost:8080/"
        },
        "id": "-3w_ld8vAsXa",
        "outputId": "6b8ac7ed-4d83-43a0-bb56-75eb4130c49e"
      },
      "source": [
        "print(y)"
      ],
      "execution_count": 14,
      "outputs": [
        {
          "output_type": "stream",
          "text": [
            "['BAIK' 'BAIK' 'BAIK' 'BAIK' 'BAIK' 'BAIK' 'TIDAK SEHAT' 'TIDAK SEHAT'\n",
            " 'TIDAK SEHAT' 'BAIK' 'TIDAK SEHAT' 'BAIK' 'BAIK' 'BAIK' 'BAIK' 'BAIK'\n",
            " 'BAIK' 'BAIK' 'TIDAK SEHAT' 'BAIK' 'BAIK' 'BAIK' 'BAIK' 'BAIK' 'BAIK'\n",
            " 'BAIK' 'TIDAK SEHAT' 'TIDAK SEHAT' 'TIDAK SEHAT' 'BAIK' 'BAIK'\n",
            " 'TIDAK SEHAT' 'TIDAK SEHAT' 'TIDAK SEHAT' 'TIDAK SEHAT' 'TIDAK SEHAT'\n",
            " 'TIDAK SEHAT' 'TIDAK SEHAT' 'BAIK' 'TIDAK SEHAT' 'TIDAK SEHAT' 'BAIK'\n",
            " 'BAIK' 'BAIK' 'BAIK']\n"
          ],
          "name": "stdout"
        }
      ]
    },
    {
      "cell_type": "code",
      "metadata": {
        "id": "ekyUzO37Au_R"
      },
      "source": [
        "from sklearn.preprocessing import LabelEncoder\n",
        "le = LabelEncoder()\n",
        "y = le.fit_transform(y)"
      ],
      "execution_count": 15,
      "outputs": []
    },
    {
      "cell_type": "code",
      "metadata": {
        "colab": {
          "base_uri": "https://localhost:8080/"
        },
        "id": "a_NYjDblA7OZ",
        "outputId": "00f1926d-0fb4-4737-d900-2da25298b5a5"
      },
      "source": [
        "print(y)"
      ],
      "execution_count": 16,
      "outputs": [
        {
          "output_type": "stream",
          "text": [
            "[0 0 0 0 0 0 1 1 1 0 1 0 0 0 0 0 0 0 1 0 0 0 0 0 0 0 1 1 1 0 0 1 1 1 1 1 1\n",
            " 1 0 1 1 0 0 0 0]\n"
          ],
          "name": "stdout"
        }
      ]
    },
    {
      "cell_type": "code",
      "metadata": {
        "id": "lpK_DTIxA_OC"
      },
      "source": [
        "from sklearn.model_selection import train_test_split\n",
        "x_train, x_test, y_train, y_test = train_test_split(x,y, test_size=0.25, random_state=0)"
      ],
      "execution_count": 17,
      "outputs": []
    },
    {
      "cell_type": "code",
      "metadata": {
        "colab": {
          "base_uri": "https://localhost:8080/"
        },
        "id": "GCExLOuuBBE2",
        "outputId": "fa1b9f78-8d3a-4a15-84cf-0212c20b9d7e"
      },
      "source": [
        "print(x_train)"
      ],
      "execution_count": 18,
      "outputs": [
        {
          "output_type": "stream",
          "text": [
            "[[ 17  11]\n",
            " [ 29  70]\n",
            " [ 17  10]\n",
            " [ 23  87]\n",
            " [ 22  41]\n",
            " [ 32  76]\n",
            " [ 19  35]\n",
            " [ 18 117]\n",
            " [ 32 116]\n",
            " [ 37  71]\n",
            " [ 37  47]\n",
            " [ 22  39]\n",
            " [ 36 143]\n",
            " [ 23  74]\n",
            " [ 36 100]\n",
            " [ 37  98]\n",
            " [ 19 129]\n",
            " [ 25  64]\n",
            " [ 14 107]\n",
            " [ 42  75]\n",
            " [ 30 130]\n",
            " [ 33  57]\n",
            " [ 36  82]\n",
            " [ 29  71]\n",
            " [ 31 151]\n",
            " [ 34  64]\n",
            " [ 25  82]\n",
            " [ 48  78]\n",
            " [ 26 106]\n",
            " [ 13  10]\n",
            " [ 36  78]\n",
            " [ 26  74]\n",
            " [ 12   9]]\n"
          ],
          "name": "stdout"
        }
      ]
    },
    {
      "cell_type": "code",
      "metadata": {
        "colab": {
          "base_uri": "https://localhost:8080/"
        },
        "id": "gWsYMNG6BEw1",
        "outputId": "1731fd73-0f6b-4541-dcef-833de783c044"
      },
      "source": [
        "print(x_test)"
      ],
      "execution_count": 19,
      "outputs": [
        {
          "output_type": "stream",
          "text": [
            "[[ 15  81]\n",
            " [ 22 171]\n",
            " [ 20 131]\n",
            " [ 20  45]\n",
            " [ 37  88]\n",
            " [ 22  70]\n",
            " [ 17 105]\n",
            " [ 25  73]\n",
            " [ 33  80]\n",
            " [ 19  85]\n",
            " [ 46  59]\n",
            " [ 39  65]]\n"
          ],
          "name": "stdout"
        }
      ]
    },
    {
      "cell_type": "code",
      "metadata": {
        "colab": {
          "base_uri": "https://localhost:8080/"
        },
        "id": "a9N5icZhBH9O",
        "outputId": "304cd69f-61c0-4862-f5eb-98449aa98c96"
      },
      "source": [
        "print(y_train)"
      ],
      "execution_count": 20,
      "outputs": [
        {
          "output_type": "stream",
          "text": [
            "[0 0 0 1 0 0 0 1 1 0 0 0 1 0 1 1 1 0 1 0 1 0 1 0 1 0 0 0 1 0 0 0 0]\n"
          ],
          "name": "stdout"
        }
      ]
    },
    {
      "cell_type": "code",
      "metadata": {
        "colab": {
          "base_uri": "https://localhost:8080/"
        },
        "id": "H6mUJApxBLHD",
        "outputId": "687d0e6b-e6fd-42b9-f526-03454d66d285"
      },
      "source": [
        "print(y_test)"
      ],
      "execution_count": 21,
      "outputs": [
        {
          "output_type": "stream",
          "text": [
            "[0 1 1 0 1 0 1 0 0 1 0 0]\n"
          ],
          "name": "stdout"
        }
      ]
    },
    {
      "cell_type": "code",
      "metadata": {
        "id": "PQddk15VBPHd"
      },
      "source": [
        "from sklearn.preprocessing import StandardScaler\n",
        "sc = StandardScaler()\n",
        "x_train = sc.fit_transform(x_train)\n",
        "x_test = sc.transform(x_test)"
      ],
      "execution_count": 22,
      "outputs": []
    },
    {
      "cell_type": "code",
      "metadata": {
        "colab": {
          "base_uri": "https://localhost:8080/"
        },
        "id": "aWuqzhuDBRc8",
        "outputId": "e691d824-823c-4f7e-d79d-66f90bdd64de"
      },
      "source": [
        "print(x_train)"
      ],
      "execution_count": 23,
      "outputs": [
        {
          "output_type": "stream",
          "text": [
            "[[-1.22858701 -1.74509764]\n",
            " [ 0.14189315 -0.15664271]\n",
            " [-1.22858701 -1.77202061]\n",
            " [-0.54334693  0.3010477 ]\n",
            " [-0.65755361 -0.93740869]\n",
            " [ 0.48451319  0.00489508]\n",
            " [-1.00017365 -1.09894648]\n",
            " [-1.11438033  1.10873665]\n",
            " [ 0.48451319  1.08181369]\n",
            " [ 1.05554659 -0.12971974]\n",
            " [ 1.05554659 -0.7758709 ]\n",
            " [-0.65755361 -0.99125462]\n",
            " [ 0.94133991  1.80873374]\n",
            " [-0.54334693 -0.04895085]\n",
            " [ 0.94133991  0.65104624]\n",
            " [ 1.05554659  0.59720031]\n",
            " [-1.00017365  1.43181223]\n",
            " [-0.31493357 -0.3181805 ]\n",
            " [-1.57120706  0.839507  ]\n",
            " [ 1.62657999 -0.02202788]\n",
            " [ 0.25609983  1.4587352 ]\n",
            " [ 0.59871987 -0.50664125]\n",
            " [ 0.94133991  0.16643287]\n",
            " [ 0.14189315 -0.12971974]\n",
            " [ 0.37030651  2.02411746]\n",
            " [ 0.71292655 -0.3181805 ]\n",
            " [-0.31493357  0.16643287]\n",
            " [ 2.31182007  0.05874101]\n",
            " [-0.20072689  0.81258403]\n",
            " [-1.68541374 -1.77202061]\n",
            " [ 0.94133991  0.05874101]\n",
            " [-0.20072689 -0.04895085]\n",
            " [-1.79962042 -1.79894357]]\n"
          ],
          "name": "stdout"
        }
      ]
    },
    {
      "cell_type": "code",
      "metadata": {
        "colab": {
          "base_uri": "https://localhost:8080/"
        },
        "id": "M_QogcENBTdc",
        "outputId": "d243eb28-e828-454e-b084-e577dd1c287c"
      },
      "source": [
        "print(x_test)"
      ],
      "execution_count": 24,
      "outputs": [
        {
          "output_type": "stream",
          "text": [
            "[[-1.45700038  0.13950991]\n",
            " [-0.65755361  2.56257676]\n",
            " [-0.88596697  1.48565816]\n",
            " [-0.88596697 -0.82971683]\n",
            " [ 1.05554659  0.32797066]\n",
            " [-0.65755361 -0.15664271]\n",
            " [-1.22858701  0.78566107]\n",
            " [-0.31493357 -0.07587381]\n",
            " [ 0.59871987  0.11258694]\n",
            " [-1.00017365  0.24720177]\n",
            " [ 2.08340671 -0.45279532]\n",
            " [ 1.28395995 -0.29125753]]\n"
          ],
          "name": "stdout"
        }
      ]
    },
    {
      "cell_type": "code",
      "metadata": {
        "colab": {
          "base_uri": "https://localhost:8080/"
        },
        "id": "CnJC5XEWBYXV",
        "outputId": "7ebb2bbd-6ff6-4a3e-9514-5d667e25047b"
      },
      "source": [
        "from sklearn.naive_bayes import GaussianNB\n",
        "classifier = GaussianNB()\n",
        "classifier.fit(x_train, y_train)"
      ],
      "execution_count": 25,
      "outputs": [
        {
          "output_type": "execute_result",
          "data": {
            "text/plain": [
              "GaussianNB(priors=None, var_smoothing=1e-09)"
            ]
          },
          "metadata": {
            "tags": []
          },
          "execution_count": 25
        }
      ]
    },
    {
      "cell_type": "code",
      "metadata": {
        "id": "0jsP3ST6BbGC"
      },
      "source": [
        "y_pred = classifier.predict(x_test)"
      ],
      "execution_count": 26,
      "outputs": []
    },
    {
      "cell_type": "code",
      "metadata": {
        "colab": {
          "base_uri": "https://localhost:8080/"
        },
        "id": "QAciEsUwBdHc",
        "outputId": "0f8d2c29-9f68-4f4a-e8c7-17be9642fa74"
      },
      "source": [
        "from sklearn.metrics import confusion_matrix\n",
        "cm = confusion_matrix(y_test, y_pred)\n",
        "print(cm)"
      ],
      "execution_count": 27,
      "outputs": [
        {
          "output_type": "stream",
          "text": [
            "[[7 0]\n",
            " [2 3]]\n"
          ],
          "name": "stdout"
        }
      ]
    },
    {
      "cell_type": "code",
      "metadata": {
        "colab": {
          "base_uri": "https://localhost:8080/",
          "height": 352
        },
        "id": "Ho3HZRbqBmzW",
        "outputId": "1af659f2-6fc0-4047-dcc5-f3b801365515"
      },
      "source": [
        "from matplotlib.colors import ListedColormap\n",
        "x_set, y_set = x_train, y_train\n",
        "x1, x2 = np.meshgrid(np.arange(start=x_set[:,0].min()-1,stop = x_set[:,0].max() + 1, step=0.01),\n",
        "                     np.arange(start=x_set[:,1].min()-1,stop = x_set[:,0].max() + 1, step=0.01))\n",
        "plt.contourf(x1,x2, classifier.predict(np.array([x1.ravel(),x2.ravel()]).T).reshape(x1.shape),\n",
        "             alpha = 0.75,cmap=ListedColormap(('red','green')))\n",
        "plt.xlim(x1.min(),x1.max())\n",
        "plt.ylim(x2.min(),x2.max())\n",
        "for i, j in enumerate (np.unique(y_set)):\n",
        "  plt.scatter(x_set[y_set == j, 0], x_set[y_set==j, 1],\n",
        "              c = ListedColormap(('red','green'))(i),label=j)\n",
        "plt.title('Klasifikasi Data dengan Naive Bayes Untuk Data Training')\n",
        "plt.xlabel('co')\n",
        "plt.ylabel('o2')\n",
        "plt.legend()\n",
        "plt.show()"
      ],
      "execution_count": 29,
      "outputs": [
        {
          "output_type": "stream",
          "text": [
            "*c* argument looks like a single numeric RGB or RGBA sequence, which should be avoided as value-mapping will have precedence in case its length matches with *x* & *y*.  Please use the *color* keyword-argument or provide a 2-D array with a single row if you intend to specify the same RGB or RGBA value for all points.\n",
            "*c* argument looks like a single numeric RGB or RGBA sequence, which should be avoided as value-mapping will have precedence in case its length matches with *x* & *y*.  Please use the *color* keyword-argument or provide a 2-D array with a single row if you intend to specify the same RGB or RGBA value for all points.\n"
          ],
          "name": "stderr"
        },
        {
          "output_type": "display_data",
          "data": {
            "image/png": "[encoded data removed]",
            "text/plain": [
              "<Figure size 432x288 with 1 Axes>"
            ]
          },
          "metadata": {
            "tags": [],
            "needs_background": "light"
          }
        }
      ]
    },
    {
      "cell_type": "code",
      "metadata": {
        "colab": {
          "base_uri": "https://localhost:8080/",
          "height": 352
        },
        "id": "uizCpYu1BqY-",
        "outputId": "23a2c9c5-35bf-4e27-8bfb-79a4eea3dac3"
      },
      "source": [
        "from matplotlib.colors import ListedColormap\n",
        "x_set, y_set = x_test, y_test\n",
        "x1, x2 = np.meshgrid(np.arange(start=x_set[:,0].min()-1,stop = x_set[:,0].max() + 1, step=0.01),\n",
        "                     np.arange(start=x_set[:,1].min()-1,stop = x_set[:,0].max() + 1, step=0.01))\n",
        "plt.contourf(x1,x2, classifier.predict(np.array([x1.ravel(),x2.ravel()]).T).reshape(x1.shape),\n",
        "             alpha = 0.75,cmap=ListedColormap(('red','green')))\n",
        "plt.xlim(x1.min(),x1.max())\n",
        "plt.ylim(x2.min(),x2.max())\n",
        "for i, j in enumerate (np.unique(y_set)):\n",
        "  plt.scatter(x_set[y_set == j, 0], x_set[y_set==j, 1],\n",
        "              c = ListedColormap(('red','green'))(i),label=j)\n",
        "plt.title('Klasifikasi Data dengan NAive Bayes Untuk Data Training')\n",
        "plt.xlabel('co')\n",
        "plt.ylabel('o2')\n",
        "plt.legend()\n",
        "plt.show()"
      ],
      "execution_count": 30,
      "outputs": [
        {
          "output_type": "stream",
          "text": [
            "*c* argument looks like a single numeric RGB or RGBA sequence, which should be avoided as value-mapping will have precedence in case its length matches with *x* & *y*.  Please use the *color* keyword-argument or provide a 2-D array with a single row if you intend to specify the same RGB or RGBA value for all points.\n",
            "*c* argument looks like a single numeric RGB or RGBA sequence, which should be avoided as value-mapping will have precedence in case its length matches with *x* & *y*.  Please use the *color* keyword-argument or provide a 2-D array with a single row if you intend to specify the same RGB or RGBA value for all points.\n"
          ],
          "name": "stderr"
        },
        {
          "output_type": "display_data",
          "data": {
            "image/png": "[encoded data removed]",
            "text/plain": [
              "<Figure size 432x288 with 1 Axes>"
            ]
          },
          "metadata": {
            "tags": [],
            "needs_background": "light"
          }
        }
      ]
    }
  ]
}